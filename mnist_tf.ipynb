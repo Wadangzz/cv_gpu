{
 "cells": [
  {
   "cell_type": "code",
   "execution_count": null,
   "metadata": {},
   "outputs": [],
   "source": [
    "import numpy as np\n",
    "import cv2\n",
    "import matplotlib.pyplot as plt\n",
    "import tensorflow as tf\n",
    "from tensorflow import keras"
   ]
  },
  {
   "cell_type": "code",
   "execution_count": 159,
   "metadata": {},
   "outputs": [],
   "source": [
    "def res_blk (x, n_filters , f_size = 3):\n",
    "    xx = keras.layers.Conv2D(n_filters , f_size , padding='same')(x)\n",
    "    xx = keras.layers.BatchNormalization ()(xx)\n",
    "    xx = keras.layers.ReLU()(xx)\n",
    "    xx = keras.layers.Conv2D(n_filters , f_size , padding='same')(xx)\n",
    "    xx = keras.layers.BatchNormalization()(xx)\n",
    "    return keras.layers.ReLU()(xx + x)"
   ]
  },
  {
   "cell_type": "code",
   "execution_count": 329,
   "metadata": {},
   "outputs": [],
   "source": [
    "mnist = keras.datasets.mnist\n",
    "(x_train, y_train), (x_test, y_test) = mnist.load_data()"
   ]
  },
  {
   "cell_type": "code",
   "execution_count": 372,
   "metadata": {},
   "outputs": [],
   "source": [
    "x_train = x_train/255.0\n",
    "x_test = x_test/255.0\n",
    "x_train = x_train.reshape(-1, 28, 28, 1)# -1이 자동으로 배치크기 맞춰 줌\n",
    "x_test = x_test.reshape(-1, 28, 28, 1)"
   ]
  },
  {
   "cell_type": "code",
   "execution_count": 330,
   "metadata": {},
   "outputs": [],
   "source": [
    "ret, x_train = cv2.threshold(x_train,200,255,cv2.THRESH_BINARY)\n",
    "ret, x_test = cv2.threshold(x_test,200,255,cv2.THRESH_BINARY)\n",
    "x_train = x_train.reshape(-1, 28, 28, 1)# -1이 자동으로 배치크기 맞춰 줌\n",
    "x_test = x_test.reshape(-1, 28, 28, 1)\n"
   ]
  },
  {
   "cell_type": "code",
   "execution_count": 373,
   "metadata": {},
   "outputs": [],
   "source": [
    "model = keras.Sequential([\n",
    "    keras.layers.Conv2D(32,(3,3),activation = 'relu', input_shape = (28,28,1)),\n",
    "    keras.layers.MaxPooling2D((2,2)),\n",
    "    keras.layers.Conv2D(64,(3,3),activation = 'relu'),\n",
    "    keras.layers.MaxPooling2D((2,2)),\n",
    "    keras.layers.Flatten(),\n",
    "    keras.layers.Dense(256, activation='relu'),\n",
    "    keras.layers.Dense(128, activation='relu'),\n",
    "    keras.layers.Dense(10,activation = 'softmax')\n",
    "])"
   ]
  },
  {
   "cell_type": "code",
   "execution_count": null,
   "metadata": {},
   "outputs": [],
   "source": [
    "inputs= keras.Input(shape=(28,28,1))\n",
    "x = keras.layers.Conv2D(64,3,activation='relu')(inputs)\n",
    "x = res_blk(x,64,3)\n",
    "x = keras.layers.MaxPooling2D((2,2))(x)\n",
    "x = x = res_blk(x,64,3)\n",
    "x = keras.layers.MaxPooling2D((2,2))(x)\n",
    "x = keras.layers.Conv2D(32,3)(x)\n",
    "x = keras.layers.Flatten()(x)\n",
    "x = keras.layers.Dense(62,activation='relu')(x)\n",
    "outputs = keras.layers.Dense(10,activation='softmax')(x)\n",
    "\n",
    "model = keras.Model(inputs=inputs,outputs=outputs)\n"
   ]
  },
  {
   "cell_type": "code",
   "execution_count": 374,
   "metadata": {},
   "outputs": [
    {
     "name": "stdout",
     "output_type": "stream",
     "text": [
      "Model: \"sequential_13\"\n",
      "_________________________________________________________________\n",
      " Layer (type)                Output Shape              Param #   \n",
      "=================================================================\n",
      " conv2d_82 (Conv2D)          (None, 26, 26, 32)        320       \n",
      "                                                                 \n",
      " max_pooling2d_43 (MaxPoolin  (None, 13, 13, 32)       0         \n",
      " g2D)                                                            \n",
      "                                                                 \n",
      " conv2d_83 (Conv2D)          (None, 11, 11, 64)        18496     \n",
      "                                                                 \n",
      " max_pooling2d_44 (MaxPoolin  (None, 5, 5, 64)         0         \n",
      " g2D)                                                            \n",
      "                                                                 \n",
      " flatten_21 (Flatten)        (None, 1600)              0         \n",
      "                                                                 \n",
      " dense_42 (Dense)            (None, 256)               409856    \n",
      "                                                                 \n",
      " dense_43 (Dense)            (None, 128)               32896     \n",
      "                                                                 \n",
      " dense_44 (Dense)            (None, 10)                1290      \n",
      "                                                                 \n",
      "=================================================================\n",
      "Total params: 462,858\n",
      "Trainable params: 462,858\n",
      "Non-trainable params: 0\n",
      "_________________________________________________________________\n"
     ]
    }
   ],
   "source": [
    "model.summary()"
   ]
  },
  {
   "cell_type": "code",
   "execution_count": 375,
   "metadata": {},
   "outputs": [],
   "source": [
    "model.compile(optimizer='adam',\n",
    "              loss='sparse_categorical_crossentropy',\n",
    "              metrics=['accuracy'])"
   ]
  },
  {
   "cell_type": "code",
   "execution_count": 378,
   "metadata": {},
   "outputs": [
    {
     "name": "stdout",
     "output_type": "stream",
     "text": [
      "Epoch 1/5\n",
      "1875/1875 [==============================] - 8s 4ms/step - loss: 0.0156 - accuracy: 0.9949 - val_loss: 0.0481 - val_accuracy: 0.9867\n",
      "Epoch 2/5\n",
      "1875/1875 [==============================] - 7s 4ms/step - loss: 0.0114 - accuracy: 0.9965 - val_loss: 0.0514 - val_accuracy: 0.9866\n",
      "Epoch 3/5\n",
      "1875/1875 [==============================] - 7s 4ms/step - loss: 0.0103 - accuracy: 0.9967 - val_loss: 0.0536 - val_accuracy: 0.9885\n",
      "Epoch 4/5\n",
      "1875/1875 [==============================] - 6s 3ms/step - loss: 0.0097 - accuracy: 0.9972 - val_loss: 0.0605 - val_accuracy: 0.9868\n",
      "Epoch 5/5\n",
      "1875/1875 [==============================] - 7s 4ms/step - loss: 0.0074 - accuracy: 0.9975 - val_loss: 0.0559 - val_accuracy: 0.9876\n"
     ]
    },
    {
     "data": {
      "text/plain": [
       "<keras.callbacks.History at 0x252cbca2820>"
      ]
     },
     "execution_count": 378,
     "metadata": {},
     "output_type": "execute_result"
    }
   ],
   "source": [
    "model.fit(x_train,y_train,epochs=5, validation_data=(x_test,y_test))"
   ]
  },
  {
   "cell_type": "code",
   "execution_count": 379,
   "metadata": {},
   "outputs": [
    {
     "name": "stdout",
     "output_type": "stream",
     "text": [
      "313/313 [==============================] - 1s 2ms/step - loss: 0.0559 - accuracy: 0.9876\n",
      "Test Accuracy: 98.76%\n"
     ]
    }
   ],
   "source": [
    "test_loss, test_acc = model.evaluate(x_test, y_test)\n",
    "print(f\"Test Accuracy: {test_acc * 100:.2f}%\")"
   ]
  },
  {
   "cell_type": "code",
   "execution_count": 380,
   "metadata": {},
   "outputs": [],
   "source": [
    "model.save('mnist_tf.h5')"
   ]
  },
  {
   "cell_type": "code",
   "execution_count": 381,
   "metadata": {},
   "outputs": [],
   "source": [
    "models = keras.models.load_model('mnist_tf.h5')\n"
   ]
  },
  {
   "cell_type": "code",
   "execution_count": null,
   "metadata": {},
   "outputs": [
    {
     "name": "stdout",
     "output_type": "stream",
     "text": [
      "1/1 [==============================] - 0s 17ms/step\n"
     ]
    }
   ],
   "source": [
    "img = cv2.imread('test.png')\n",
    "img = cv2.cvtColor(img, cv2.COLOR_RGB2GRAY)\n",
    "\n",
    "cv2.imwrite('gray.jpg',img)\n",
    "\n",
    "img = 1 - img/255.0\n",
    "# ret, img = cv2.threshold(img,200,255,cv2.THRESH_BINARY)\n",
    "img = cv2.resize(img,(28,28))\n",
    "\n",
    "cv2.imwrite('binary.jpg',img)\n",
    "\n",
    "img = np.expand_dims(img,axis=0)\n",
    "img = np.expand_dims(img,axis=-1)\n",
    "\n",
    "prediction = model.predict(img)\n",
    "predicted_digit = np.argmax(prediction)\n",
    "print(predicted_digit)\n"
   ]
  },
  {
   "cell_type": "code",
   "execution_count": 397,
   "metadata": {},
   "outputs": [
    {
     "data": {
      "image/png": "[encoded data removed]",
      "text/plain": [
       "<Figure size 640x480 with 1 Axes>"
      ]
     },
     "metadata": {},
     "output_type": "display_data"
    }
   ],
   "source": [
    "plt.imshow(img[0, :, :, 0], cmap=\"gray\")\n",
    "plt.title(f\"Predicted Digit: {predicted_digit}\")\n",
    "plt.axis(\"off\")\n",
    "plt.show()"
   ]
  }
 ],
 "metadata": {
  "kernelspec": {
   "display_name": "tf_env",
   "language": "python",
   "name": "python3"
  },
  "language_info": {
   "codemirror_mode": {
    "name": "ipython",
    "version": 3
   },
   "file_extension": ".py",
   "mimetype": "text/x-python",
   "name": "python",
   "nbconvert_exporter": "python",
   "pygments_lexer": "ipython3",
   "version": "3.9.21"
  }
 },
 "nbformat": 4,
 "nbformat_minor": 2
}
