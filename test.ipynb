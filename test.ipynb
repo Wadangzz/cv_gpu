{
 "cells": [
  {
   "cell_type": "code",
   "execution_count": null,
   "id": "fe304915",
   "metadata": {},
   "outputs": [],
   "source": []
  }
 ],
 "metadata": {
  "kernelspec": {
   "display_name": "cv_env",
   "language": "python",
   "name": "python3"
  },
  "language_info": {
   "name": "python",
   "version": "3.9.21"
  }
 },
 "nbformat": 4,
 "nbformat_minor": 5
}
