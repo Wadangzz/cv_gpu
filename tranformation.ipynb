{
 "cells": [
  {
   "cell_type": "code",
   "execution_count": 1,
   "metadata": {},
   "outputs": [],
   "source": [
    "import tqdm\n",
    "from ultralytics import YOLO"
   ]
  },
  {
   "cell_type": "code",
   "execution_count": 2,
   "metadata": {},
   "outputs": [
    {
     "name": "stdout",
     "output_type": "stream",
     "text": [
      "Downloading https://github.com/ultralytics/assets/releases/download/v8.3.0/yolov8l.pt to 'yolov8l.pt'...\n"
     ]
    },
    {
     "name": "stderr",
     "output_type": "stream",
     "text": [
      "100%|██████████| 83.7M/83.7M [00:01<00:00, 44.9MB/s]\n"
     ]
    }
   ],
   "source": [
    "model = YOLO('yolov8l.pt')  # 'n'은 nano 버전, 's', 'm', 'l'로 변경 가능"
   ]
  },
  {
   "cell_type": "code",
   "execution_count": 3,
   "metadata": {},
   "outputs": [
    {
     "name": "stdout",
     "output_type": "stream",
     "text": [
      "YOLOv8l summary: 209 layers, 43,691,520 parameters, 0 gradients, 165.7 GFLOPs\n"
     ]
    },
    {
     "data": {
      "text/plain": [
       "(209, 43691520, 0, 165.742848)"
      ]
     },
     "execution_count": 3,
     "metadata": {},
     "output_type": "execute_result"
    }
   ],
   "source": [
    "model.info()"
   ]
  },
  {
   "cell_type": "markdown",
   "metadata": {},
   "source": [
    "\n",
    "- format\t변환할 모델의 형식 (예: \"onnx\", \"tflite\", \"torchscript\" 등)\n",
    "- dynamic\t동적 크기 지원 여부 (True이면 입력 크기가 가변적)\n",
    "- simplify\t변환된 ONNX 모델을 단순화하여 최적화 (onnx-simplifier 사용)\n"
   ]
  },
  {
   "cell_type": "code",
   "execution_count": null,
   "metadata": {},
   "outputs": [
    {
     "name": "stdout",
     "output_type": "stream",
     "text": [
      "Ultralytics 8.3.79  Python-3.9.21 torch-2.6.0+cu118 CPU (AMD Ryzen 5 3500X 6-Core Processor)\n",
      "YOLOv8l summary (fused): 112 layers, 43,668,288 parameters, 0 gradients, 165.2 GFLOPs\n",
      "\n",
      "\u001b[34m\u001b[1mPyTorch:\u001b[0m starting from 'yolov8l.pt' with input shape (1, 3, 640, 640) BCHW and output shape(s) (1, 84, 8400) (83.7 MB)\n",
      "\u001b[31m\u001b[1mrequirements:\u001b[0m Ultralytics requirements ['onnx>=1.12.0', 'onnxslim', 'onnxruntime'] not found, attempting AutoUpdate...\n",
      "Collecting onnx>=1.12.0\n",
      "  Downloading onnx-1.17.0-cp39-cp39-win_amd64.whl.metadata (16 kB)\n",
      "Collecting onnxslim\n",
      "  Downloading onnxslim-0.1.48-py3-none-any.whl.metadata (4.6 kB)\n",
      "Collecting onnxruntime\n",
      "  Downloading onnxruntime-1.19.2-cp39-cp39-win_amd64.whl.metadata (4.7 kB)\n",
      "Requirement already satisfied: numpy>=1.20 in c:\\users\\wadangzz\\anaconda3\\envs\\cv_env\\lib\\site-packages (from onnx>=1.12.0) (1.26.3)\n",
      "Requirement already satisfied: protobuf>=3.20.2 in c:\\users\\wadangzz\\anaconda3\\envs\\cv_env\\lib\\site-packages (from onnx>=1.12.0) (5.29.3)\n",
      "Requirement already satisfied: sympy in c:\\users\\wadangzz\\anaconda3\\envs\\cv_env\\lib\\site-packages (from onnxslim) (1.13.1)\n",
      "Requirement already satisfied: packaging in c:\\users\\wadangzz\\anaconda3\\envs\\cv_env\\lib\\site-packages (from onnxslim) (24.2)\n",
      "Requirement already satisfied: coloredlogs in c:\\users\\wadangzz\\anaconda3\\envs\\cv_env\\lib\\site-packages (from onnxruntime) (15.0.1)\n",
      "Requirement already satisfied: flatbuffers in c:\\users\\wadangzz\\anaconda3\\envs\\cv_env\\lib\\site-packages (from onnxruntime) (25.2.10)\n",
      "Requirement already satisfied: humanfriendly>=9.1 in c:\\users\\wadangzz\\anaconda3\\envs\\cv_env\\lib\\site-packages (from coloredlogs->onnxruntime) (10.0)\n",
      "Requirement already satisfied: mpmath<1.4,>=1.1.0 in c:\\users\\wadangzz\\anaconda3\\envs\\cv_env\\lib\\site-packages (from sympy->onnxslim) (1.3.0)\n",
      "Requirement already satisfied: pyreadline3 in c:\\users\\wadangzz\\anaconda3\\envs\\cv_env\\lib\\site-packages (from humanfriendly>=9.1->coloredlogs->onnxruntime) (3.5.4)\n",
      "Downloading onnx-1.17.0-cp39-cp39-win_amd64.whl (14.5 MB)\n",
      "   ---------------------------------------- 14.5/14.5 MB 39.7 MB/s eta 0:00:00\n",
      "Downloading onnxslim-0.1.48-py3-none-any.whl (142 kB)\n",
      "Downloading onnxruntime-1.19.2-cp39-cp39-win_amd64.whl (11.1 MB)\n",
      "   ---------------------------------------- 11.1/11.1 MB 63.3 MB/s eta 0:00:00\n",
      "Installing collected packages: onnx, onnxslim, onnxruntime\n",
      "Successfully installed onnx-1.17.0 onnxruntime-1.19.2 onnxslim-0.1.48\n",
      "\n",
      "\u001b[31m\u001b[1mrequirements:\u001b[0m AutoUpdate success  11.5s, installed 3 packages: ['onnx>=1.12.0', 'onnxslim', 'onnxruntime']\n",
      "\u001b[31m\u001b[1mrequirements:\u001b[0m  \u001b[1mRestart runtime or rerun command for updates to take effect\u001b[0m\n",
      "\n",
      "\n",
      "\u001b[34m\u001b[1mONNX:\u001b[0m starting export with onnx 1.17.0 opset 19...\n",
      "\u001b[34m\u001b[1mONNX:\u001b[0m slimming with onnxslim 0.1.48...\n",
      "\u001b[34m\u001b[1mONNX:\u001b[0m export success  40.6s, saved as 'yolov8l.onnx' (166.7 MB)\n",
      "\n",
      "Export complete (44.5s)\n",
      "Results saved to \u001b[1mC:\\Users\\wadangzz\\Desktop\\conda\\cv_gpu\u001b[0m\n",
      "Predict:         yolo predict task=detect model=yolov8l.onnx imgsz=640  \n",
      "Validate:        yolo val task=detect model=yolov8l.onnx imgsz=640 data=coco.yaml  \n",
      "Visualize:       https://netron.app\n"
     ]
    },
    {
     "data": {
      "text/plain": [
       "'yolov8l.onnx'"
      ]
     },
     "execution_count": 4,
     "metadata": {},
     "output_type": "execute_result"
    },
    {
     "ename": "",
     "evalue": "",
     "output_type": "error",
     "traceback": [
      "\u001b[1;31mThe Kernel crashed while executing code in the current cell or a previous cell. \n",
      "\u001b[1;31mPlease review the code in the cell(s) to identify a possible cause of the failure. \n",
      "\u001b[1;31mClick <a href='https://aka.ms/vscodeJupyterKernelCrash'>here</a> for more info. \n",
      "\u001b[1;31mView Jupyter <a href='command:jupyter.viewOutput'>log</a> for further details."
     ]
    }
   ],
   "source": [
    "model.export(format='onnx',dynamic=True,simplify=True)"
   ]
  }
 ],
 "metadata": {
  "kernelspec": {
   "display_name": "cv_env",
   "language": "python",
   "name": "python3"
  },
  "language_info": {
   "codemirror_mode": {
    "name": "ipython",
    "version": 3
   },
   "file_extension": ".py",
   "mimetype": "text/x-python",
   "name": "python",
   "nbconvert_exporter": "python",
   "pygments_lexer": "ipython3",
   "version": "3.9.21"
  }
 },
 "nbformat": 4,
 "nbformat_minor": 2
}
